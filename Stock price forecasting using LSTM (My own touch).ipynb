{
 "cells": [
  {
   "cell_type": "code",
   "execution_count": null,
   "id": "9fced295",
   "metadata": {},
   "outputs": [],
   "source": [
    "import numpy as np\n",
    "import pandas as pd\n",
    "\n",
    "import os\n",
    "import matplotlib.pyplot as plt\n",
    "import pandas_datareader as web\n",
    "import datetime as dt\n",
    "\n",
    "from sklearn.preprocessing import MinMaxScaler\n",
    "from tensorflow.keras.models import Sequential\n",
    "from tensorflow.keras.layers import Dense, Dropout, LSTM\n",
    "from tensorflow.keras.callbacks import ModelCheckpoint, EarlyStopping"
   ]
  },
  {
   "cell_type": "code",
   "execution_count": null,
   "id": "3cfdff18",
   "metadata": {},
   "outputs": [],
   "source": [
    "# Load csv\n",
    "# data = pd.read_csv('RELIANCE.csv')\n",
    "data = pd.read_csv('TCS.csv')\n",
    "# data = pd.read_csv('ITC.csv')\n",
    "data.head()"
   ]
  },
  {
   "cell_type": "code",
   "execution_count": null,
   "id": "58ccab67",
   "metadata": {},
   "outputs": [],
   "source": [
    "data.shape"
   ]
  },
  {
   "cell_type": "code",
   "execution_count": null,
   "id": "578decbc",
   "metadata": {},
   "outputs": [],
   "source": [
    "data.dtypes"
   ]
  },
  {
   "cell_type": "code",
   "execution_count": null,
   "id": "22180ed5",
   "metadata": {},
   "outputs": [],
   "source": [
    "# data['Date']=pd.to_datetime(data['Date'],infer_datetime_format=True)\n",
    "data['Date'] = pd.to_datetime(data['Date'], format='%Y-%m-%d')\n",
    "# data['Date'] = pd.to_datetime(data['Date'], format='%d-%m-%Y')"
   ]
  },
  {
   "cell_type": "code",
   "execution_count": null,
   "id": "715dfb3b",
   "metadata": {},
   "outputs": [],
   "source": [
    "data.dtypes"
   ]
  },
  {
   "cell_type": "code",
   "execution_count": null,
   "id": "df4695ae",
   "metadata": {},
   "outputs": [],
   "source": [
    "data.head()"
   ]
  },
  {
   "cell_type": "code",
   "execution_count": null,
   "id": "59bf71b5",
   "metadata": {},
   "outputs": [],
   "source": [
    "data.describe()"
   ]
  },
  {
   "cell_type": "code",
   "execution_count": null,
   "id": "63ddfe45",
   "metadata": {},
   "outputs": [],
   "source": [
    "plt.plot(data['Date'],data['Close'])"
   ]
  },
  {
   "cell_type": "code",
   "execution_count": null,
   "id": "cdb47e8e",
   "metadata": {},
   "outputs": [],
   "source": [
    "data.isnull().sum()"
   ]
  },
  {
   "cell_type": "code",
   "execution_count": null,
   "id": "5b75b811",
   "metadata": {},
   "outputs": [],
   "source": [
    "# Create a boolean mask of missing values\n",
    "missing_mask = data.isnull().any(axis=1)\n",
    "\n",
    "# Get the index labels of rows with missing values\n",
    "rows_with_missing = data[missing_mask].index\n",
    "\n",
    "rows_with_missing"
   ]
  },
  {
   "cell_type": "code",
   "execution_count": null,
   "id": "d74dcc3d",
   "metadata": {},
   "outputs": [],
   "source": [
    "data.dropna(axis=0,inplace = True)"
   ]
  },
  {
   "cell_type": "code",
   "execution_count": null,
   "id": "3eecf997",
   "metadata": {},
   "outputs": [],
   "source": [
    "data.isnull().sum()"
   ]
  },
  {
   "cell_type": "code",
   "execution_count": null,
   "id": "22de44a3",
   "metadata": {},
   "outputs": [],
   "source": [
    "data.shape"
   ]
  },
  {
   "cell_type": "code",
   "execution_count": null,
   "id": "5b0e9926",
   "metadata": {},
   "outputs": [],
   "source": [
    "train_size = data.shape[0] - 15\n",
    "train_data = data.iloc[0:train_size,:]"
   ]
  },
  {
   "cell_type": "code",
   "execution_count": null,
   "id": "e609ee28",
   "metadata": {},
   "outputs": [],
   "source": [
    "train_data.shape"
   ]
  },
  {
   "cell_type": "code",
   "execution_count": null,
   "id": "26d795ba",
   "metadata": {},
   "outputs": [],
   "source": [
    "train_data = train_data[['Date','Close']]\n",
    "train_data.head()"
   ]
  },
  {
   "cell_type": "code",
   "execution_count": null,
   "id": "43d4e7f1",
   "metadata": {},
   "outputs": [],
   "source": [
    "# data['year'] = data['Date'].dt.month_name() \n",
    "# data['month'] = data['Date'].dt.year \n",
    "# data['Day'] = data['Date'].dt.day\n",
    "# data.head()"
   ]
  },
  {
   "cell_type": "code",
   "execution_count": null,
   "id": "d34275bf",
   "metadata": {},
   "outputs": [],
   "source": [
    "plt.plot(train_data['Date'],train_data['Close'])"
   ]
  },
  {
   "cell_type": "code",
   "execution_count": null,
   "id": "b93ff750",
   "metadata": {},
   "outputs": [],
   "source": [
    "# Normalize data\n",
    "scaler = MinMaxScaler(feature_range=(0,1))\n",
    "scaled_data = scaler.fit_transform(train_data['Close'].values.reshape(-1,1))"
   ]
  },
  {
   "cell_type": "code",
   "execution_count": null,
   "id": "7a7775b8",
   "metadata": {},
   "outputs": [],
   "source": [
    "scaled_data"
   ]
  },
  {
   "cell_type": "code",
   "execution_count": null,
   "id": "64c70a1b",
   "metadata": {},
   "outputs": [],
   "source": [
    "scaled_data[0:3,0]"
   ]
  },
  {
   "cell_type": "code",
   "execution_count": null,
   "id": "60d6bca8",
   "metadata": {},
   "outputs": [],
   "source": [
    "# Set the number of days used for prediction\n",
    "prediction_days = 60\n",
    "\n",
    "# Initialize empty lists for training data input and output\n",
    "x_train = []\n",
    "y_train = []\n",
    "\n",
    "# Iterate through the scaled data, starting from the prediction_days index\n",
    "for x in range(prediction_days, len(scaled_data)):\n",
    "    # Append the previous 'prediction_days' values to x_train\n",
    "    x_train.append(scaled_data[x - prediction_days:x, 0])\n",
    "    # Append the current value to y_train\n",
    "    y_train.append(scaled_data[x, 0])\n"
   ]
  },
  {
   "cell_type": "code",
   "execution_count": null,
   "id": "9ba54d64",
   "metadata": {},
   "outputs": [],
   "source": [
    "# Convert the x_train and y_train lists to numpy arrays\n",
    "x_train, y_train = np.array(x_train), np.array(y_train)\n",
    "x_train[0]"
   ]
  },
  {
   "cell_type": "code",
   "execution_count": null,
   "id": "f665ad0b",
   "metadata": {},
   "outputs": [],
   "source": [
    "x_train.shape"
   ]
  },
  {
   "cell_type": "code",
   "execution_count": null,
   "id": "82f228c1",
   "metadata": {},
   "outputs": [],
   "source": [
    "# Reshape x_train to a 3D array with the appropriate dimensions for the LSTM model\n",
    "x_train = np.reshape(x_train, (x_train.shape[0], x_train.shape[1], 1))"
   ]
  },
  {
   "cell_type": "code",
   "execution_count": null,
   "id": "d709414e",
   "metadata": {},
   "outputs": [],
   "source": [
    "x_train.shape"
   ]
  },
  {
   "cell_type": "code",
   "execution_count": null,
   "id": "a32a8b46",
   "metadata": {},
   "outputs": [],
   "source": [
    "def LSTM_model():\n",
    "    \"\"\"\n",
    "    Create and configure an LSTM model for stock price prediction.\n",
    "\n",
    "    :return: The configured LSTM model (keras.Sequential)\n",
    "    \"\"\"\n",
    "\n",
    "    # Initialize a sequential model\n",
    "    model = Sequential()\n",
    "\n",
    "    # Add the first LSTM layer with 50 units, input shape, and return sequences\n",
    "    model.add(LSTM(units=50, return_sequences=True, input_shape=(x_train.shape[1], 1)))\n",
    "    # Add dropout to prevent overfitting\n",
    "    model.add(Dropout(0.2))\n",
    "\n",
    "    # Add a second LSTM layer with 50 units and return sequences\n",
    "    model.add(LSTM(units=50, return_sequences=True))\n",
    "    # Add dropout to prevent overfitting\n",
    "    model.add(Dropout(0.2))\n",
    "\n",
    "    # Add a third LSTM layer with 50 units\n",
    "    model.add(LSTM(units=50))\n",
    "    # Add dropout to prevent overfitting\n",
    "    model.add(Dropout(0.2))\n",
    "\n",
    "    # Add a dense output layer with one unit\n",
    "    model.add(Dense(units=1))\n",
    "\n",
    "    return model"
   ]
  },
  {
   "cell_type": "code",
   "execution_count": null,
   "id": "a085736c",
   "metadata": {},
   "outputs": [],
   "source": [
    "model = LSTM_model()\n",
    "model.summary()\n",
    "model.compile(\n",
    "    optimizer='adam', \n",
    "    loss='mean_squared_error'\n",
    ")"
   ]
  },
  {
   "cell_type": "code",
   "execution_count": null,
   "id": "6cf26552",
   "metadata": {},
   "outputs": [],
   "source": [
    "# Define callbacks\n",
    "\n",
    "# Save weights only for best model\n",
    "checkpointer = ModelCheckpoint(\n",
    "    filepath = 'weights_best.hdf5', \n",
    "    verbose = 2, \n",
    "    save_best_only = True\n",
    ")\n",
    "\n",
    "model.fit(\n",
    "    x_train, \n",
    "    y_train, \n",
    "    epochs=25, \n",
    "    batch_size = 32,\n",
    "    callbacks = [checkpointer]\n",
    ")"
   ]
  },
  {
   "cell_type": "code",
   "execution_count": null,
   "id": "00dbcac1",
   "metadata": {},
   "outputs": [],
   "source": [
    "# x_test = train_data['Close'][-60:]\n",
    "# print(x_test.shape,'Series-Type')\n",
    "# x_test = x_test.values.reshape(1,60)\n",
    "# print(x_test.shape)\n",
    "# x_test = scaler.fit_transform(x_test)\n",
    "# print(x_test.shape)\n",
    "# x_test = np.reshape(x_test, (x_test.shape[0], x_test.shape[1], 1))\n",
    "# x_test.shape"
   ]
  },
  {
   "cell_type": "code",
   "execution_count": null,
   "id": "62433dcb",
   "metadata": {},
   "outputs": [],
   "source": [
    "df = train_data['Close'][-60:]\n",
    "predicted_prices = []\n",
    "forcast_days = 15\n",
    "\n",
    "for i in range(forcast_days):\n",
    "\n",
    "    x_test = df[-60:]\n",
    "    x_test = x_test.values.reshape(60,1)\n",
    "    x_test = scaler.transform(x_test)\n",
    "    x_test = x_test.reshape(1,60)\n",
    "\n",
    "# Reshape x_test to a 3D array with the appropriate dimensions for the LSTM model\n",
    "    x_test = np.reshape(x_test, (x_test.shape[0], x_test.shape[1], 1))\n",
    "\n",
    "# Generate price predictions using the LSTM model\n",
    "    predicted_price = model.predict(x_test)\n",
    "\n",
    "# Invert the scaling applied to the predicted prices to obtain actual values\n",
    "    predicted_price = scaler.inverse_transform(predicted_price)\n",
    "\n",
    "    predicted_prices.append(predicted_price[0,0])\n",
    "    df.loc[len(df)] = predicted_price[0,0]"
   ]
  },
  {
   "cell_type": "code",
   "execution_count": null,
   "id": "b3976b4a",
   "metadata": {},
   "outputs": [],
   "source": [
    "predicted_prices = np.array(predicted_prices)\n",
    "\n",
    "# test data loading\n",
    "test_data = data.iloc[train_size:,:]\n",
    "\n",
    "# Extract the actual closing prices from the test data\n",
    "actual_prices = test_data['Close'].values"
   ]
  },
  {
   "cell_type": "code",
   "execution_count": null,
   "id": "2794cf5f",
   "metadata": {},
   "outputs": [],
   "source": [
    "COMPANY = 'TCS'"
   ]
  },
  {
   "cell_type": "code",
   "execution_count": null,
   "id": "ae363c80",
   "metadata": {},
   "outputs": [],
   "source": [
    "# Plot the actual prices using a black line\n",
    "plt.plot(actual_prices, color='black', label=f\"Actual {COMPANY} price\")\n",
    "\n",
    "# Plot the predicted prices using a green line\n",
    "plt.plot(predicted_prices, color='green', label=f\"Predicted {COMPANY} price\")\n",
    "\n",
    "# Set the title of the plot using the company name\n",
    "plt.title(f\"{COMPANY} share price\")\n",
    "\n",
    "# Set the x-axis label as 'time'\n",
    "plt.xlabel(\"time\")\n",
    "\n",
    "# Set the y-axis label using the company name\n",
    "plt.ylabel(f\"{COMPANY} share price\")\n",
    "\n",
    "# Display a legend to differentiate the actual and predicted prices\n",
    "plt.legend()\n",
    "\n",
    "# Show the plot on the screen\n",
    "plt.show()\n"
   ]
  },
  {
   "cell_type": "code",
   "execution_count": null,
   "id": "a5d169ac",
   "metadata": {},
   "outputs": [],
   "source": [
    "# Calculate evaluation metrics (MSE and RMSE)\n",
    "from sklearn.metrics import mean_squared_error, mean_absolute_error\n",
    "mse = mean_squared_error(actual_prices, predicted_prices)\n",
    "rmse = np.sqrt(mse)\n",
    "mae = mean_absolute_error(actual_prices, predicted_prices)\n",
    "\n",
    "print(f\"Mean Squared Error: {mse}\")\n",
    "print(f\"Root Mean Squared Error: {rmse}\")\n",
    "print(f\"Mean Absolute Error: {mae}\")\n"
   ]
  },
  {
   "cell_type": "code",
   "execution_count": null,
   "id": "deea40dc",
   "metadata": {},
   "outputs": [],
   "source": [
    "from sklearn.metrics import r2_score\n",
    "import numpy as np\n",
    "\n",
    "r2 = r2_score(actual_prices, predicted_prices)\n",
    "\n",
    "print(\"R2 Score:\", r2)"
   ]
  },
  {
   "cell_type": "code",
   "execution_count": null,
   "id": "3648d67f",
   "metadata": {},
   "outputs": [],
   "source": [
    "actual prices"
   ]
  },
  {
   "cell_type": "code",
   "execution_count": null,
   "id": "530bce49",
   "metadata": {},
   "outputs": [],
   "source": [
    "predicted_prices"
   ]
  },
  {
   "cell_type": "code",
   "execution_count": null,
   "id": "6672a38a",
   "metadata": {},
   "outputs": [],
   "source": []
  }
 ],
 "metadata": {
  "kernelspec": {
   "display_name": "Python 3 (ipykernel)",
   "language": "python",
   "name": "python3"
  },
  "language_info": {
   "codemirror_mode": {
    "name": "ipython",
    "version": 3
   },
   "file_extension": ".py",
   "mimetype": "text/x-python",
   "name": "python",
   "nbconvert_exporter": "python",
   "pygments_lexer": "ipython3",
   "version": "3.10.6"
  }
 },
 "nbformat": 4,
 "nbformat_minor": 5
}
